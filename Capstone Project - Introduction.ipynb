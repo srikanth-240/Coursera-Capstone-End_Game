{
    "cells": [
        {
            "cell_type": "markdown",
            "metadata": {
                "collapsed": true
            },
            "source": "# Capstone Project - Covid Test Centers Segmenting and Clustering in Toronto"
        },
        {
            "attachments": {},
            "cell_type": "markdown",
            "metadata": {},
            "source": "## Introduction: Business Problem\n\nCOVID-19 has impacted the whole world at unprecedented levels.\nGovernments and Health care departments are put under extreme pressure to come up with various tasks in the battle against this pandemic. One of many such projects is setting up test centers to assess patients.\nIn this project we'll be segmenting and clustering the Covid-19 Test centers in city of Toronto.\nBy plotting the test centers on the city map gives us a visual of how they are spread across this vast city with a population of 3 million. \nAt the end using Foursquare and K nearest neighbors data science concepts we find the 10 most common venues around each of the test centers. This will help in understanding what kind of businesses or amenities exist around each test center. \n\nStakeholders for the insights achieved can be many;\n    a) Government officials while planning more test centers in other neighborhoods than the present ones.\n    b) Patients to quickly identify what kind of services/amenities exist around each test center e.g Parking centers.\n    c) Businesses to take extra precautions for possible exposure due to increased influx of people in the neighborhood."
        },
        {
            "attachments": {},
            "cell_type": "markdown",
            "metadata": {},
            "source": "## Data\n\nTo achieve the solution, we begin with the official datasets provided by Govt of Onatrio in their website that list the Covid test centers across the Province.\n\nURL: https://data.ontario.ca/dataset/8ba078b2-ca9b-44c1-b5db-9674d85421f9/resource/04bede2c-5e30-4a05-b890-cd407043485e/download/assessment-centre-locations.csv\n\nAlong with test center name file contains city name, postal_code, latitude and longitude details that we'll be using when plotting maps(using Folium) and when segmenting and clustering while finding 10 most common venues around each test center present in Toronto(using Four Square API)."
        }
    ],
    "metadata": {
        "kernelspec": {
            "display_name": "Python 3.7",
            "language": "python",
            "name": "python3"
        },
        "language_info": {
            "codemirror_mode": {
                "name": "ipython",
                "version": 3
            },
            "file_extension": ".py",
            "mimetype": "text/x-python",
            "name": "python",
            "nbconvert_exporter": "python",
            "pygments_lexer": "ipython3",
            "version": "3.7.9"
        }
    },
    "nbformat": 4,
    "nbformat_minor": 1
}