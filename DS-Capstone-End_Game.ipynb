{
    "cells": [
        {
            "cell_type": "markdown",
            "metadata": {},
            "source": "# Capstone Project - Covid Test Centers Segmenting and Clustering in Toronto"
        },
        {
            "cell_type": "markdown",
            "metadata": {},
            "source": "## Introduction: Business Problem\n\nCOVID-19 has impacted the whole world at unprecendented levels.<br> Governments and Health care departments are put under extreme pressure to come up with various tasks in the battle against this pandemic.<br> One of many such projects is setting up test centers to assess patients. In this project we'll be segmenting and clustering the Covid-19 Test centers in city of Toronto.<br>By plotting the test centers on the city map gives us a visual of how they are spread across this vast city with a population of 3 million.<br>At the end using Foursquare and K nearest neighbors data science concepts we find the 10 most common venues around each of the test centers.<br>This will help in understanding what kind of businesses or amenties exist around each test center. \n\nStakeholders for the insights achieved can be many;<br>\n  a) Government officials while planning more test centers in other neighborhoods than the present ones.<br>\n  b) Patients to quickly identify what kind of services/amenties exist around each test center e.g Parking centers.<br>\n  c) Businesses to take extra precautions for possible exposure due to increased influx of people in the neighborhood.<br>"
        },
        {
            "cell_type": "markdown",
            "metadata": {},
            "source": "## Data\nTo achieve the solution we begin with the official datasets provided by Govt of Onatrio in their website that list the covid test centers across the Province.<br>\nhttps://data.ontario.ca/dataset/8ba078b2-ca9b-44c1-b5db-9674d85421f9/resource/04bede2c-5e30-4a05-b890-cd407043485e/download/assessment-centre-locations.csv\n    Along with test center name file contains city name, postal_code, latitude and longitude details that we'll be using when plotting maps(using Folium) and when segmenting and clustering while finding 10 most common venues around each test center present in Toronto(using FourSquare API)."
        },
        {
            "cell_type": "markdown",
            "metadata": {},
            "source": "## Methodology\nIn first step we have collected the required data which contained test_center location_name, city_name, postal_code, latitude and longitude details. We also performed necessary data wrangling for smooth analysis further. \n\nIn the Second step in our analysis we will start using Foursqaure API for finding the near by venues around each test center.\n\nIn third and final step we will focus on plotting our findings on maps using Folium and then use K nearest neighbor clustering, thereby finding the n most common venues around each test center."
        },
        {
            "cell_type": "code",
            "execution_count": 2,
            "metadata": {
                "scrolled": true
            },
            "outputs": [
                {
                    "name": "stdout",
                    "output_type": "stream",
                    "text": "Collecting folium\n  Downloading folium-0.11.0-py2.py3-none-any.whl (93 kB)\n\u001b[K     |\u2588\u2588\u2588\u2588\u2588\u2588\u2588\u2588\u2588\u2588\u2588\u2588\u2588\u2588\u2588\u2588\u2588\u2588\u2588\u2588\u2588\u2588\u2588\u2588\u2588\u2588\u2588\u2588\u2588\u2588\u2588\u2588| 93 kB 2.9 MB/s eta 0:00:011\n\u001b[?25hRequirement already satisfied: requests in /opt/conda/envs/Python-3.7-main/lib/python3.7/site-packages (from folium) (2.24.0)\nRequirement already satisfied: jinja2>=2.9 in /opt/conda/envs/Python-3.7-main/lib/python3.7/site-packages (from folium) (2.11.2)\nRequirement already satisfied: numpy in /opt/conda/envs/Python-3.7-main/lib/python3.7/site-packages (from folium) (1.18.5)\nCollecting branca>=0.3.0\n  Downloading branca-0.4.1-py3-none-any.whl (24 kB)\nRequirement already satisfied: idna<3,>=2.5 in /opt/conda/envs/Python-3.7-main/lib/python3.7/site-packages (from requests->folium) (2.9)\nRequirement already satisfied: certifi>=2017.4.17 in /opt/conda/envs/Python-3.7-main/lib/python3.7/site-packages (from requests->folium) (2020.6.20)\nRequirement already satisfied: urllib3!=1.25.0,!=1.25.1,<1.26,>=1.21.1 in /opt/conda/envs/Python-3.7-main/lib/python3.7/site-packages (from requests->folium) (1.25.9)\nRequirement already satisfied: chardet<4,>=3.0.2 in /opt/conda/envs/Python-3.7-main/lib/python3.7/site-packages (from requests->folium) (3.0.4)\nRequirement already satisfied: MarkupSafe>=0.23 in /opt/conda/envs/Python-3.7-main/lib/python3.7/site-packages (from jinja2>=2.9->folium) (1.1.1)\nInstalling collected packages: branca, folium\nSuccessfully installed branca-0.4.1 folium-0.11.0\nLibraries imported\n"
                }
            ],
            "source": "import pandas as pd\nimport numpy as np\nimport matplotlib.cm as cm\nimport matplotlib.colors as colors\nimport requests\nimport os\nfrom sklearn.cluster import KMeans\nfrom geopy.geocoders import Nominatim \n!pip install folium\nimport folium\n\nprint('Libraries imported')"
        },
        {
            "cell_type": "markdown",
            "metadata": {},
            "source": "### Data preparation and wrangling"
        },
        {
            "cell_type": "code",
            "execution_count": 4,
            "metadata": {},
            "outputs": [],
            "source": "#Importing dataset - Covid test centers in Ontario\nurl = 'https://raw.githubusercontent.com/srikanth-240/Coursera-Capstone-End_Game/master/covid_test_centers_ontario.csv'\ncols_list=['location_name','city','address','postal_code','latitude','longitude']\ndf_cvt = pd.read_csv(url, usecols=cols_list,error_bad_lines=False)"
        },
        {
            "cell_type": "code",
            "execution_count": 5,
            "metadata": {},
            "outputs": [
                {
                    "data": {
                        "text/html": "<div>\n<style scoped>\n    .dataframe tbody tr th:only-of-type {\n        vertical-align: middle;\n    }\n\n    .dataframe tbody tr th {\n        vertical-align: top;\n    }\n\n    .dataframe thead th {\n        text-align: right;\n    }\n</style>\n<table border=\"1\" class=\"dataframe\">\n  <thead>\n    <tr style=\"text-align: right;\">\n      <th></th>\n      <th>location_name</th>\n      <th>city</th>\n      <th>address</th>\n      <th>postal_code</th>\n      <th>latitude</th>\n      <th>longitude</th>\n    </tr>\n  </thead>\n  <tbody>\n    <tr>\n      <th>0</th>\n      <td>Kirkland and District Hospital</td>\n      <td>Kirkland Lake</td>\n      <td>145 Government Road East</td>\n      <td>P2N 3P4</td>\n      <td>48.153552</td>\n      <td>-80.014725</td>\n    </tr>\n    <tr>\n      <th>1</th>\n      <td>Collingwood Health Centre</td>\n      <td>Collingwood</td>\n      <td>186 Erie Street</td>\n      <td>L9Y 4T3</td>\n      <td>44.501231</td>\n      <td>-80.204437</td>\n    </tr>\n    <tr>\n      <th>2</th>\n      <td>Midland Assessment Centre</td>\n      <td>Midland</td>\n      <td>845 King Street, Unit 3</td>\n      <td>L4R 0B7</td>\n      <td>44.734750</td>\n      <td>-79.870959</td>\n    </tr>\n    <tr>\n      <th>3</th>\n      <td>Milton District Hospital</td>\n      <td>Milton</td>\n      <td>725 Bronte Street South</td>\n      <td>L9T 9K1</td>\n      <td>43.497418</td>\n      <td>-79.868476</td>\n    </tr>\n    <tr>\n      <th>4</th>\n      <td>Oakville Trafalgar Memorial Hospital</td>\n      <td>Oakville</td>\n      <td>3001 Hospital Gate</td>\n      <td>L6M 0L8</td>\n      <td>43.450869</td>\n      <td>-79.763927</td>\n    </tr>\n  </tbody>\n</table>\n</div>",
                        "text/plain": "                          location_name           city  \\\n0        Kirkland and District Hospital  Kirkland Lake   \n1             Collingwood Health Centre    Collingwood   \n2             Midland Assessment Centre        Midland   \n3              Milton District Hospital         Milton   \n4  Oakville Trafalgar Memorial Hospital       Oakville   \n\n                    address postal_code   latitude  longitude  \n0  145 Government Road East     P2N 3P4  48.153552 -80.014725  \n1           186 Erie Street     L9Y 4T3  44.501231 -80.204437  \n2   845 King Street, Unit 3     L4R 0B7  44.734750 -79.870959  \n3   725 Bronte Street South     L9T 9K1  43.497418 -79.868476  \n4        3001 Hospital Gate     L6M 0L8  43.450869 -79.763927  "
                    },
                    "execution_count": 5,
                    "metadata": {},
                    "output_type": "execute_result"
                }
            ],
            "source": "df_cvt.head()"
        },
        {
            "cell_type": "code",
            "execution_count": 6,
            "metadata": {},
            "outputs": [],
            "source": "df_cvt.drop_duplicates(inplace=True)"
        },
        {
            "cell_type": "code",
            "execution_count": 7,
            "metadata": {},
            "outputs": [
                {
                    "data": {
                        "text/plain": "(153, 6)"
                    },
                    "execution_count": 7,
                    "metadata": {},
                    "output_type": "execute_result"
                }
            ],
            "source": "df_cvt.shape"
        },
        {
            "cell_type": "markdown",
            "metadata": {},
            "source": "### Analysis \nLet's perform some basic exploratory data analysis and derive some additional info from our raw data."
        },
        {
            "cell_type": "code",
            "execution_count": 8,
            "metadata": {},
            "outputs": [],
            "source": "df_cvt_grp = df_cvt.groupby(['postal_code']).count()"
        },
        {
            "cell_type": "code",
            "execution_count": 9,
            "metadata": {},
            "outputs": [
                {
                    "data": {
                        "text/html": "<div>\n<style scoped>\n    .dataframe tbody tr th:only-of-type {\n        vertical-align: middle;\n    }\n\n    .dataframe tbody tr th {\n        vertical-align: top;\n    }\n\n    .dataframe thead th {\n        text-align: right;\n    }\n</style>\n<table border=\"1\" class=\"dataframe\">\n  <thead>\n    <tr style=\"text-align: right;\">\n      <th></th>\n      <th>location_name</th>\n      <th>city</th>\n      <th>address</th>\n      <th>latitude</th>\n      <th>longitude</th>\n    </tr>\n    <tr>\n      <th>postal_code</th>\n      <th></th>\n      <th></th>\n      <th></th>\n      <th></th>\n      <th></th>\n    </tr>\n  </thead>\n  <tbody>\n    <tr>\n      <th>H0M 1A0</th>\n      <td>1</td>\n      <td>1</td>\n      <td>1</td>\n      <td>1</td>\n      <td>1</td>\n    </tr>\n    <tr>\n      <th>K0A 1A0</th>\n      <td>1</td>\n      <td>1</td>\n      <td>1</td>\n      <td>1</td>\n      <td>1</td>\n    </tr>\n    <tr>\n      <th>K0A 1M0</th>\n      <td>1</td>\n      <td>1</td>\n      <td>1</td>\n      <td>1</td>\n      <td>1</td>\n    </tr>\n    <tr>\n      <th>K0C 2K0</th>\n      <td>1</td>\n      <td>1</td>\n      <td>1</td>\n      <td>1</td>\n      <td>1</td>\n    </tr>\n    <tr>\n      <th>K0J 1B0</th>\n      <td>1</td>\n      <td>1</td>\n      <td>1</td>\n      <td>1</td>\n      <td>1</td>\n    </tr>\n    <tr>\n      <th>...</th>\n      <td>...</td>\n      <td>...</td>\n      <td>...</td>\n      <td>...</td>\n      <td>...</td>\n    </tr>\n    <tr>\n      <th>P7B 6V4</th>\n      <td>1</td>\n      <td>1</td>\n      <td>1</td>\n      <td>1</td>\n      <td>1</td>\n    </tr>\n    <tr>\n      <th>P8N 2Z6</th>\n      <td>1</td>\n      <td>1</td>\n      <td>1</td>\n      <td>1</td>\n      <td>1</td>\n    </tr>\n    <tr>\n      <th>P8T 1B4</th>\n      <td>1</td>\n      <td>1</td>\n      <td>1</td>\n      <td>1</td>\n      <td>1</td>\n    </tr>\n    <tr>\n      <th>P9A 2B7</th>\n      <td>2</td>\n      <td>2</td>\n      <td>2</td>\n      <td>2</td>\n      <td>2</td>\n    </tr>\n    <tr>\n      <th>P9N 3W7</th>\n      <td>1</td>\n      <td>1</td>\n      <td>1</td>\n      <td>1</td>\n      <td>1</td>\n    </tr>\n  </tbody>\n</table>\n<p>151 rows \u00d7 5 columns</p>\n</div>",
                        "text/plain": "             location_name  city  address  latitude  longitude\npostal_code                                                   \nH0M 1A0                  1     1        1         1          1\nK0A 1A0                  1     1        1         1          1\nK0A 1M0                  1     1        1         1          1\nK0C 2K0                  1     1        1         1          1\nK0J 1B0                  1     1        1         1          1\n...                    ...   ...      ...       ...        ...\nP7B 6V4                  1     1        1         1          1\nP8N 2Z6                  1     1        1         1          1\nP8T 1B4                  1     1        1         1          1\nP9A 2B7                  2     2        2         2          2\nP9N 3W7                  1     1        1         1          1\n\n[151 rows x 5 columns]"
                    },
                    "execution_count": 9,
                    "metadata": {},
                    "output_type": "execute_result"
                }
            ],
            "source": "df_cvt_grp"
        },
        {
            "cell_type": "code",
            "execution_count": 10,
            "metadata": {
                "scrolled": true
            },
            "outputs": [
                {
                    "data": {
                        "text/html": "<div>\n<style scoped>\n    .dataframe tbody tr th:only-of-type {\n        vertical-align: middle;\n    }\n\n    .dataframe tbody tr th {\n        vertical-align: top;\n    }\n\n    .dataframe thead th {\n        text-align: right;\n    }\n</style>\n<table border=\"1\" class=\"dataframe\">\n  <thead>\n    <tr style=\"text-align: right;\">\n      <th></th>\n      <th>location_name</th>\n      <th>city</th>\n      <th>address</th>\n      <th>postal_code</th>\n      <th>latitude</th>\n      <th>longitude</th>\n    </tr>\n  </thead>\n  <tbody>\n    <tr>\n      <th>100</th>\n      <td>Humber River Hospital Assessment Centre</td>\n      <td>Toronto</td>\n      <td>2111 Finch Avenue West</td>\n      <td>M3N 1N1</td>\n      <td>43.754813</td>\n      <td>-79.525921</td>\n    </tr>\n    <tr>\n      <th>101</th>\n      <td>Michael Garron Hospital - Emergency Department</td>\n      <td>Toronto</td>\n      <td>825 Coxwell Avenue</td>\n      <td>M4C 3E7</td>\n      <td>43.689910</td>\n      <td>-79.324858</td>\n    </tr>\n    <tr>\n      <th>102</th>\n      <td>Michael Garron Hospital - Outpatient Clinic</td>\n      <td>Toronto</td>\n      <td>825 Coxwell Avenue</td>\n      <td>M4C 3E7</td>\n      <td>43.689910</td>\n      <td>-79.324858</td>\n    </tr>\n    <tr>\n      <th>103</th>\n      <td>Market Place Temporary Assessment Centre</td>\n      <td>Toronto</td>\n      <td>4 The Market Place</td>\n      <td>M4C 5M1</td>\n      <td>43.695869</td>\n      <td>-79.292138</td>\n    </tr>\n    <tr>\n      <th>104</th>\n      <td>Mount Sinai Hospital</td>\n      <td>Toronto</td>\n      <td>600 University Avenue</td>\n      <td>M5G 1X5</td>\n      <td>43.657575</td>\n      <td>-79.390096</td>\n    </tr>\n  </tbody>\n</table>\n</div>",
                        "text/plain": "                                      location_name     city  \\\n100         Humber River Hospital Assessment Centre  Toronto   \n101  Michael Garron Hospital - Emergency Department  Toronto   \n102     Michael Garron Hospital - Outpatient Clinic  Toronto   \n103        Market Place Temporary Assessment Centre  Toronto   \n104                            Mount Sinai Hospital  Toronto   \n\n                    address postal_code   latitude  longitude  \n100  2111 Finch Avenue West     M3N 1N1  43.754813 -79.525921  \n101      825 Coxwell Avenue     M4C 3E7  43.689910 -79.324858  \n102      825 Coxwell Avenue     M4C 3E7  43.689910 -79.324858  \n103      4 The Market Place     M4C 5M1  43.695869 -79.292138  \n104   600 University Avenue     M5G 1X5  43.657575 -79.390096  "
                    },
                    "execution_count": 10,
                    "metadata": {},
                    "output_type": "execute_result"
                }
            ],
            "source": "toronto_data=df_cvt[df_cvt['city'].str.contains(\"Toronto\")]\ntoronto_data.head()"
        },
        {
            "cell_type": "markdown",
            "metadata": {},
            "source": "#### Now that we have required data ready to use, lets get started with Foursquare API set up and usage"
        },
        {
            "cell_type": "code",
            "execution_count": 11,
            "metadata": {},
            "outputs": [],
            "source": "CLIENT_ID = 'W4PBLUERW3QAKYRKDMGPKNXWDO5FCII0YASDM22CSHKAEIAX'\nCLIENT_SECRET = 'PA5KT0XC2RG2E3KJF4E4D3XAZ4UZ3T1DAEX4D5P5NMXAQPYV'\nVERSION = '20201111'"
        },
        {
            "cell_type": "markdown",
            "metadata": {},
            "source": "#### Time to get all near by venues using latitude and longitudes of each test center obtained earlier"
        },
        {
            "cell_type": "code",
            "execution_count": 12,
            "metadata": {},
            "outputs": [],
            "source": "def getNearbyVenues(names, latitudes, longitudes):\n    radius=500\n    LIMIT=100\n    venues_list=[]\n    for name, lat, lng in zip(names, latitudes, longitudes):\n        print(name)\n            \n\n        url = 'https://api.foursquare.com/v2/venues/explore?&client_id={}&client_secret={}&v={}&ll={},{}&radius={}&limit={}'.format(\n            CLIENT_ID, \n            CLIENT_SECRET, \n            VERSION, \n            lat, \n            lng,\n            radius, \n            LIMIT)\n            \n\n        results = requests.get(url).json()[\"response\"]['groups'][0]['items']\n\n        venues_list.append([(\n            name, \n            lat, \n            lng, \n            v['venue']['name'], \n            v['venue']['location']['lat'], \n            v['venue']['location']['lng'],  \n            v['venue']['categories'][0]['name']) for v in results])\n\n    nearby_venues = pd.DataFrame([item for venue_list in venues_list for item in venue_list])\n    nearby_venues.columns = ['Test_Center', \n                  'Test_Center Latitude', \n                  'Test_Center Longitude', \n                  'Venue', \n                  'Venue Latitude', \n                  'Venue Longitude', \n                  'Venue Category']\n    \n    return(nearby_venues)"
        },
        {
            "cell_type": "code",
            "execution_count": 13,
            "metadata": {},
            "outputs": [
                {
                    "name": "stdout",
                    "output_type": "stream",
                    "text": "Humber River Hospital Assessment Centre\nMichael Garron Hospital - Emergency Department\nMichael Garron Hospital - Outpatient Clinic\nMarket Place Temporary Assessment Centre\nMount Sinai Hospital\nNorth York General Hospital - Branson\nNorth York General Hospital - Emergency Department\nScarborough Health Network - Birchmount\nScarborough Health Network Centenary Site\nSunnybrook Health Sciences Centre\nToronto Western Hospital \nSt. Joseph's Health Centre \nSt Michael's Hospital \nWomen's College Hospital\n"
                }
            ],
            "source": "toronto_venues = getNearbyVenues(names=toronto_data['location_name'],\n                                   latitudes=toronto_data['latitude'],\n                                   longitudes=toronto_data['longitude']\n                                  )"
        },
        {
            "cell_type": "code",
            "execution_count": 16,
            "metadata": {},
            "outputs": [
                {
                    "data": {
                        "text/html": "<div>\n<style scoped>\n    .dataframe tbody tr th:only-of-type {\n        vertical-align: middle;\n    }\n\n    .dataframe tbody tr th {\n        vertical-align: top;\n    }\n\n    .dataframe thead th {\n        text-align: right;\n    }\n</style>\n<table border=\"1\" class=\"dataframe\">\n  <thead>\n    <tr style=\"text-align: right;\">\n      <th></th>\n      <th>Test_Center</th>\n      <th>Test_Center Latitude</th>\n      <th>Test_Center Longitude</th>\n      <th>Venue</th>\n      <th>Venue Latitude</th>\n      <th>Venue Longitude</th>\n      <th>Venue Category</th>\n    </tr>\n  </thead>\n  <tbody>\n    <tr>\n      <th>0</th>\n      <td>Humber River Hospital Assessment Centre</td>\n      <td>43.754813</td>\n      <td>-79.525921</td>\n      <td>Best Western Plus Toronto North York Hotel &amp; S...</td>\n      <td>43.756887</td>\n      <td>-79.528779</td>\n      <td>Hotel</td>\n    </tr>\n    <tr>\n      <th>1</th>\n      <td>Humber River Hospital Assessment Centre</td>\n      <td>43.754813</td>\n      <td>-79.525921</td>\n      <td>Holiday Inn Express Toronto-North York</td>\n      <td>43.756232</td>\n      <td>-79.527348</td>\n      <td>Hotel</td>\n    </tr>\n    <tr>\n      <th>2</th>\n      <td>Humber River Hospital Assessment Centre</td>\n      <td>43.754813</td>\n      <td>-79.525921</td>\n      <td>Tim Hortons</td>\n      <td>43.754344</td>\n      <td>-79.527024</td>\n      <td>Coffee Shop</td>\n    </tr>\n    <tr>\n      <th>3</th>\n      <td>Humber River Hospital Assessment Centre</td>\n      <td>43.754813</td>\n      <td>-79.525921</td>\n      <td>Hwy 400 at Finch W.</td>\n      <td>43.754399</td>\n      <td>-79.526967</td>\n      <td>Intersection</td>\n    </tr>\n    <tr>\n      <th>4</th>\n      <td>Humber River Hospital Assessment Centre</td>\n      <td>43.754813</td>\n      <td>-79.525921</td>\n      <td>Perkins</td>\n      <td>43.756567</td>\n      <td>-79.527475</td>\n      <td>American Restaurant</td>\n    </tr>\n  </tbody>\n</table>\n</div>",
                        "text/plain": "                               Test_Center  Test_Center Latitude  \\\n0  Humber River Hospital Assessment Centre             43.754813   \n1  Humber River Hospital Assessment Centre             43.754813   \n2  Humber River Hospital Assessment Centre             43.754813   \n3  Humber River Hospital Assessment Centre             43.754813   \n4  Humber River Hospital Assessment Centre             43.754813   \n\n   Test_Center Longitude                                              Venue  \\\n0             -79.525921  Best Western Plus Toronto North York Hotel & S...   \n1             -79.525921             Holiday Inn Express Toronto-North York   \n2             -79.525921                                        Tim Hortons   \n3             -79.525921                                Hwy 400 at Finch W.   \n4             -79.525921                                            Perkins   \n\n   Venue Latitude  Venue Longitude       Venue Category  \n0       43.756887       -79.528779                Hotel  \n1       43.756232       -79.527348                Hotel  \n2       43.754344       -79.527024          Coffee Shop  \n3       43.754399       -79.526967         Intersection  \n4       43.756567       -79.527475  American Restaurant  "
                    },
                    "execution_count": 16,
                    "metadata": {},
                    "output_type": "execute_result"
                }
            ],
            "source": "toronto_venues.head()"
        },
        {
            "cell_type": "code",
            "execution_count": 17,
            "metadata": {},
            "outputs": [
                {
                    "data": {
                        "text/plain": "(374, 7)"
                    },
                    "execution_count": 17,
                    "metadata": {},
                    "output_type": "execute_result"
                }
            ],
            "source": "toronto_venues.shape"
        },
        {
            "cell_type": "code",
            "execution_count": 18,
            "metadata": {},
            "outputs": [
                {
                    "data": {
                        "text/html": "<div>\n<style scoped>\n    .dataframe tbody tr th:only-of-type {\n        vertical-align: middle;\n    }\n\n    .dataframe tbody tr th {\n        vertical-align: top;\n    }\n\n    .dataframe thead th {\n        text-align: right;\n    }\n</style>\n<table border=\"1\" class=\"dataframe\">\n  <thead>\n    <tr style=\"text-align: right;\">\n      <th></th>\n      <th>Test_Center Latitude</th>\n      <th>Test_Center Longitude</th>\n      <th>Venue</th>\n      <th>Venue Latitude</th>\n      <th>Venue Longitude</th>\n      <th>Venue Category</th>\n    </tr>\n    <tr>\n      <th>Test_Center</th>\n      <th></th>\n      <th></th>\n      <th></th>\n      <th></th>\n      <th></th>\n      <th></th>\n    </tr>\n  </thead>\n  <tbody>\n    <tr>\n      <th>Humber River Hospital Assessment Centre</th>\n      <td>7</td>\n      <td>7</td>\n      <td>7</td>\n      <td>7</td>\n      <td>7</td>\n      <td>7</td>\n    </tr>\n    <tr>\n      <th>Market Place Temporary Assessment Centre</th>\n      <td>4</td>\n      <td>4</td>\n      <td>4</td>\n      <td>4</td>\n      <td>4</td>\n      <td>4</td>\n    </tr>\n    <tr>\n      <th>Michael Garron Hospital - Emergency Department</th>\n      <td>9</td>\n      <td>9</td>\n      <td>9</td>\n      <td>9</td>\n      <td>9</td>\n      <td>9</td>\n    </tr>\n    <tr>\n      <th>Michael Garron Hospital - Outpatient Clinic</th>\n      <td>9</td>\n      <td>9</td>\n      <td>9</td>\n      <td>9</td>\n      <td>9</td>\n      <td>9</td>\n    </tr>\n    <tr>\n      <th>Mount Sinai Hospital</th>\n      <td>61</td>\n      <td>61</td>\n      <td>61</td>\n      <td>61</td>\n      <td>61</td>\n      <td>61</td>\n    </tr>\n    <tr>\n      <th>North York General Hospital - Branson</th>\n      <td>7</td>\n      <td>7</td>\n      <td>7</td>\n      <td>7</td>\n      <td>7</td>\n      <td>7</td>\n    </tr>\n    <tr>\n      <th>North York General Hospital - Emergency Department</th>\n      <td>13</td>\n      <td>13</td>\n      <td>13</td>\n      <td>13</td>\n      <td>13</td>\n      <td>13</td>\n    </tr>\n    <tr>\n      <th>Scarborough Health Network - Birchmount</th>\n      <td>8</td>\n      <td>8</td>\n      <td>8</td>\n      <td>8</td>\n      <td>8</td>\n      <td>8</td>\n    </tr>\n    <tr>\n      <th>Scarborough Health Network Centenary Site</th>\n      <td>9</td>\n      <td>9</td>\n      <td>9</td>\n      <td>9</td>\n      <td>9</td>\n      <td>9</td>\n    </tr>\n    <tr>\n      <th>St Michael's Hospital</th>\n      <td>84</td>\n      <td>84</td>\n      <td>84</td>\n      <td>84</td>\n      <td>84</td>\n      <td>84</td>\n    </tr>\n    <tr>\n      <th>St. Joseph's Health Centre</th>\n      <td>35</td>\n      <td>35</td>\n      <td>35</td>\n      <td>35</td>\n      <td>35</td>\n      <td>35</td>\n    </tr>\n    <tr>\n      <th>Sunnybrook Health Sciences Centre</th>\n      <td>3</td>\n      <td>3</td>\n      <td>3</td>\n      <td>3</td>\n      <td>3</td>\n      <td>3</td>\n    </tr>\n    <tr>\n      <th>Toronto Western Hospital</th>\n      <td>86</td>\n      <td>86</td>\n      <td>86</td>\n      <td>86</td>\n      <td>86</td>\n      <td>86</td>\n    </tr>\n    <tr>\n      <th>Women's College Hospital</th>\n      <td>39</td>\n      <td>39</td>\n      <td>39</td>\n      <td>39</td>\n      <td>39</td>\n      <td>39</td>\n    </tr>\n  </tbody>\n</table>\n</div>",
                        "text/plain": "                                                    Test_Center Latitude  \\\nTest_Center                                                                \nHumber River Hospital Assessment Centre                                7   \nMarket Place Temporary Assessment Centre                               4   \nMichael Garron Hospital - Emergency Department                         9   \nMichael Garron Hospital - Outpatient Clinic                            9   \nMount Sinai Hospital                                                  61   \nNorth York General Hospital - Branson                                  7   \nNorth York General Hospital - Emergency Department                    13   \nScarborough Health Network - Birchmount                                8   \nScarborough Health Network Centenary Site                              9   \nSt Michael's Hospital                                                 84   \nSt. Joseph's Health Centre                                            35   \nSunnybrook Health Sciences Centre                                      3   \nToronto Western Hospital                                              86   \nWomen's College Hospital                                              39   \n\n                                                    Test_Center Longitude  \\\nTest_Center                                                                 \nHumber River Hospital Assessment Centre                                 7   \nMarket Place Temporary Assessment Centre                                4   \nMichael Garron Hospital - Emergency Department                          9   \nMichael Garron Hospital - Outpatient Clinic                             9   \nMount Sinai Hospital                                                   61   \nNorth York General Hospital - Branson                                   7   \nNorth York General Hospital - Emergency Department                     13   \nScarborough Health Network - Birchmount                                 8   \nScarborough Health Network Centenary Site                               9   \nSt Michael's Hospital                                                  84   \nSt. Joseph's Health Centre                                             35   \nSunnybrook Health Sciences Centre                                       3   \nToronto Western Hospital                                               86   \nWomen's College Hospital                                               39   \n\n                                                    Venue  Venue Latitude  \\\nTest_Center                                                                 \nHumber River Hospital Assessment Centre                 7               7   \nMarket Place Temporary Assessment Centre                4               4   \nMichael Garron Hospital - Emergency Department          9               9   \nMichael Garron Hospital - Outpatient Clinic             9               9   \nMount Sinai Hospital                                   61              61   \nNorth York General Hospital - Branson                   7               7   \nNorth York General Hospital - Emergency Department     13              13   \nScarborough Health Network - Birchmount                 8               8   \nScarborough Health Network Centenary Site               9               9   \nSt Michael's Hospital                                  84              84   \nSt. Joseph's Health Centre                             35              35   \nSunnybrook Health Sciences Centre                       3               3   \nToronto Western Hospital                               86              86   \nWomen's College Hospital                               39              39   \n\n                                                    Venue Longitude  \\\nTest_Center                                                           \nHumber River Hospital Assessment Centre                           7   \nMarket Place Temporary Assessment Centre                          4   \nMichael Garron Hospital - Emergency Department                    9   \nMichael Garron Hospital - Outpatient Clinic                       9   \nMount Sinai Hospital                                             61   \nNorth York General Hospital - Branson                             7   \nNorth York General Hospital - Emergency Department               13   \nScarborough Health Network - Birchmount                           8   \nScarborough Health Network Centenary Site                         9   \nSt Michael's Hospital                                            84   \nSt. Joseph's Health Centre                                       35   \nSunnybrook Health Sciences Centre                                 3   \nToronto Western Hospital                                         86   \nWomen's College Hospital                                         39   \n\n                                                    Venue Category  \nTest_Center                                                         \nHumber River Hospital Assessment Centre                          7  \nMarket Place Temporary Assessment Centre                         4  \nMichael Garron Hospital - Emergency Department                   9  \nMichael Garron Hospital - Outpatient Clinic                      9  \nMount Sinai Hospital                                            61  \nNorth York General Hospital - Branson                            7  \nNorth York General Hospital - Emergency Department              13  \nScarborough Health Network - Birchmount                          8  \nScarborough Health Network Centenary Site                        9  \nSt Michael's Hospital                                           84  \nSt. Joseph's Health Centre                                      35  \nSunnybrook Health Sciences Centre                                3  \nToronto Western Hospital                                        86  \nWomen's College Hospital                                        39  "
                    },
                    "execution_count": 18,
                    "metadata": {},
                    "output_type": "execute_result"
                }
            ],
            "source": "toronto_venues.groupby('Test_Center').count()"
        },
        {
            "cell_type": "code",
            "execution_count": 23,
            "metadata": {},
            "outputs": [
                {
                    "data": {
                        "text/plain": "(374, 134)"
                    },
                    "execution_count": 23,
                    "metadata": {},
                    "output_type": "execute_result"
                }
            ],
            "source": "toronto_onehot = pd.get_dummies(toronto_venues[['Venue Category']], prefix=\"\", prefix_sep=\"\")\ntoronto_onehot.insert(loc=0, column='Test_Center', value=toronto_venues['Test_Center'] )\ntoronto_onehot.shape"
        },
        {
            "cell_type": "code",
            "execution_count": 24,
            "metadata": {
                "scrolled": true
            },
            "outputs": [
                {
                    "data": {
                        "text/html": "<div>\n<style scoped>\n    .dataframe tbody tr th:only-of-type {\n        vertical-align: middle;\n    }\n\n    .dataframe tbody tr th {\n        vertical-align: top;\n    }\n\n    .dataframe thead th {\n        text-align: right;\n    }\n</style>\n<table border=\"1\" class=\"dataframe\">\n  <thead>\n    <tr style=\"text-align: right;\">\n      <th></th>\n      <th>Test_Center</th>\n      <th>American Restaurant</th>\n      <th>Arcade</th>\n      <th>Arepa Restaurant</th>\n      <th>Art Gallery</th>\n      <th>Art Museum</th>\n      <th>Arts &amp; Crafts Store</th>\n      <th>Asian Restaurant</th>\n      <th>Athletics &amp; Sports</th>\n      <th>Bagel Shop</th>\n      <th>...</th>\n      <th>Thai Restaurant</th>\n      <th>Theater</th>\n      <th>Thrift / Vintage Store</th>\n      <th>Toy / Game Store</th>\n      <th>Trail</th>\n      <th>Train Station</th>\n      <th>Vegetarian / Vegan Restaurant</th>\n      <th>Video Store</th>\n      <th>Wine Bar</th>\n      <th>Yoga Studio</th>\n    </tr>\n  </thead>\n  <tbody>\n    <tr>\n      <th>0</th>\n      <td>Humber River Hospital Assessment Centre</td>\n      <td>0.142857</td>\n      <td>0.0</td>\n      <td>0.0</td>\n      <td>0.000000</td>\n      <td>0.000000</td>\n      <td>0.0</td>\n      <td>0.0</td>\n      <td>0.0</td>\n      <td>0.0</td>\n      <td>...</td>\n      <td>0.000000</td>\n      <td>0.0</td>\n      <td>0.0</td>\n      <td>0.0</td>\n      <td>0.0</td>\n      <td>0.0</td>\n      <td>0.000000</td>\n      <td>0.0</td>\n      <td>0.0</td>\n      <td>0.0</td>\n    </tr>\n    <tr>\n      <th>1</th>\n      <td>Market Place Temporary Assessment Centre</td>\n      <td>0.000000</td>\n      <td>0.0</td>\n      <td>0.0</td>\n      <td>0.000000</td>\n      <td>0.000000</td>\n      <td>0.0</td>\n      <td>0.0</td>\n      <td>0.0</td>\n      <td>0.0</td>\n      <td>...</td>\n      <td>0.000000</td>\n      <td>0.0</td>\n      <td>0.0</td>\n      <td>0.0</td>\n      <td>0.0</td>\n      <td>0.0</td>\n      <td>0.000000</td>\n      <td>0.0</td>\n      <td>0.0</td>\n      <td>0.0</td>\n    </tr>\n    <tr>\n      <th>2</th>\n      <td>Michael Garron Hospital - Emergency Department</td>\n      <td>0.000000</td>\n      <td>0.0</td>\n      <td>0.0</td>\n      <td>0.000000</td>\n      <td>0.000000</td>\n      <td>0.0</td>\n      <td>0.0</td>\n      <td>0.0</td>\n      <td>0.0</td>\n      <td>...</td>\n      <td>0.000000</td>\n      <td>0.0</td>\n      <td>0.0</td>\n      <td>0.0</td>\n      <td>0.0</td>\n      <td>0.0</td>\n      <td>0.000000</td>\n      <td>0.0</td>\n      <td>0.0</td>\n      <td>0.0</td>\n    </tr>\n    <tr>\n      <th>3</th>\n      <td>Michael Garron Hospital - Outpatient Clinic</td>\n      <td>0.000000</td>\n      <td>0.0</td>\n      <td>0.0</td>\n      <td>0.000000</td>\n      <td>0.000000</td>\n      <td>0.0</td>\n      <td>0.0</td>\n      <td>0.0</td>\n      <td>0.0</td>\n      <td>...</td>\n      <td>0.000000</td>\n      <td>0.0</td>\n      <td>0.0</td>\n      <td>0.0</td>\n      <td>0.0</td>\n      <td>0.0</td>\n      <td>0.000000</td>\n      <td>0.0</td>\n      <td>0.0</td>\n      <td>0.0</td>\n    </tr>\n    <tr>\n      <th>4</th>\n      <td>Mount Sinai Hospital</td>\n      <td>0.000000</td>\n      <td>0.0</td>\n      <td>0.0</td>\n      <td>0.032787</td>\n      <td>0.016393</td>\n      <td>0.0</td>\n      <td>0.0</td>\n      <td>0.0</td>\n      <td>0.0</td>\n      <td>...</td>\n      <td>0.016393</td>\n      <td>0.0</td>\n      <td>0.0</td>\n      <td>0.0</td>\n      <td>0.0</td>\n      <td>0.0</td>\n      <td>0.016393</td>\n      <td>0.0</td>\n      <td>0.0</td>\n      <td>0.0</td>\n    </tr>\n  </tbody>\n</table>\n<p>5 rows \u00d7 134 columns</p>\n</div>",
                        "text/plain": "                                      Test_Center  American Restaurant  \\\n0         Humber River Hospital Assessment Centre             0.142857   \n1        Market Place Temporary Assessment Centre             0.000000   \n2  Michael Garron Hospital - Emergency Department             0.000000   \n3     Michael Garron Hospital - Outpatient Clinic             0.000000   \n4                            Mount Sinai Hospital             0.000000   \n\n   Arcade  Arepa Restaurant  Art Gallery  Art Museum  Arts & Crafts Store  \\\n0     0.0               0.0     0.000000    0.000000                  0.0   \n1     0.0               0.0     0.000000    0.000000                  0.0   \n2     0.0               0.0     0.000000    0.000000                  0.0   \n3     0.0               0.0     0.000000    0.000000                  0.0   \n4     0.0               0.0     0.032787    0.016393                  0.0   \n\n   Asian Restaurant  Athletics & Sports  Bagel Shop  ...  Thai Restaurant  \\\n0               0.0                 0.0         0.0  ...         0.000000   \n1               0.0                 0.0         0.0  ...         0.000000   \n2               0.0                 0.0         0.0  ...         0.000000   \n3               0.0                 0.0         0.0  ...         0.000000   \n4               0.0                 0.0         0.0  ...         0.016393   \n\n   Theater  Thrift / Vintage Store  Toy / Game Store  Trail  Train Station  \\\n0      0.0                     0.0               0.0    0.0            0.0   \n1      0.0                     0.0               0.0    0.0            0.0   \n2      0.0                     0.0               0.0    0.0            0.0   \n3      0.0                     0.0               0.0    0.0            0.0   \n4      0.0                     0.0               0.0    0.0            0.0   \n\n   Vegetarian / Vegan Restaurant  Video Store  Wine Bar  Yoga Studio  \n0                       0.000000          0.0       0.0          0.0  \n1                       0.000000          0.0       0.0          0.0  \n2                       0.000000          0.0       0.0          0.0  \n3                       0.000000          0.0       0.0          0.0  \n4                       0.016393          0.0       0.0          0.0  \n\n[5 rows x 134 columns]"
                    },
                    "execution_count": 24,
                    "metadata": {},
                    "output_type": "execute_result"
                }
            ],
            "source": "toronto_grouped = toronto_onehot.groupby('Test_Center').mean().reset_index()\ntoronto_grouped.head()"
        },
        {
            "cell_type": "markdown",
            "metadata": {},
            "source": "#### Fetch the most common venues based on their existence counts"
        },
        {
            "cell_type": "code",
            "execution_count": 25,
            "metadata": {},
            "outputs": [],
            "source": "def return_most_common_venues(row, num_top_venues):\n    row_categories = row.iloc[1:]\n    row_categories_sorted = row_categories.sort_values(ascending=False)\n    \n    return row_categories_sorted.index.values[0:num_top_venues]"
        },
        {
            "cell_type": "code",
            "execution_count": 26,
            "metadata": {},
            "outputs": [
                {
                    "data": {
                        "text/html": "<div>\n<style scoped>\n    .dataframe tbody tr th:only-of-type {\n        vertical-align: middle;\n    }\n\n    .dataframe tbody tr th {\n        vertical-align: top;\n    }\n\n    .dataframe thead th {\n        text-align: right;\n    }\n</style>\n<table border=\"1\" class=\"dataframe\">\n  <thead>\n    <tr style=\"text-align: right;\">\n      <th></th>\n      <th>Test_Center</th>\n      <th>1st Most Common Venue</th>\n      <th>2nd Most Common Venue</th>\n      <th>3rd Most Common Venue</th>\n      <th>4th Most Common Venue</th>\n      <th>5th Most Common Venue</th>\n      <th>6th Most Common Venue</th>\n      <th>7th Most Common Venue</th>\n      <th>8th Most Common Venue</th>\n      <th>9th Most Common Venue</th>\n      <th>10th Most Common Venue</th>\n    </tr>\n  </thead>\n  <tbody>\n    <tr>\n      <th>0</th>\n      <td>Humber River Hospital Assessment Centre</td>\n      <td>Hotel</td>\n      <td>American Restaurant</td>\n      <td>Coffee Shop</td>\n      <td>Intersection</td>\n      <td>Diner</td>\n      <td>Eastern European Restaurant</td>\n      <td>Donut Shop</td>\n      <td>Doner Restaurant</td>\n      <td>Distribution Center</td>\n      <td>Discount Store</td>\n    </tr>\n    <tr>\n      <th>1</th>\n      <td>Market Place Temporary Assessment Centre</td>\n      <td>Golf Course</td>\n      <td>Metro Station</td>\n      <td>Convenience Store</td>\n      <td>Park</td>\n      <td>Creperie</td>\n      <td>Curling Ice</td>\n      <td>Dance Studio</td>\n      <td>Deli / Bodega</td>\n      <td>Department Store</td>\n      <td>Electronics Store</td>\n    </tr>\n    <tr>\n      <th>2</th>\n      <td>Michael Garron Hospital - Emergency Department</td>\n      <td>Coffee Shop</td>\n      <td>Caf\u00e9</td>\n      <td>Park</td>\n      <td>Pizza Place</td>\n      <td>Farmers Market</td>\n      <td>Dance Studio</td>\n      <td>Sandwich Place</td>\n      <td>Diner</td>\n      <td>Doner Restaurant</td>\n      <td>Distribution Center</td>\n    </tr>\n    <tr>\n      <th>3</th>\n      <td>Michael Garron Hospital - Outpatient Clinic</td>\n      <td>Coffee Shop</td>\n      <td>Caf\u00e9</td>\n      <td>Park</td>\n      <td>Pizza Place</td>\n      <td>Farmers Market</td>\n      <td>Dance Studio</td>\n      <td>Sandwich Place</td>\n      <td>Diner</td>\n      <td>Doner Restaurant</td>\n      <td>Distribution Center</td>\n    </tr>\n    <tr>\n      <th>4</th>\n      <td>Mount Sinai Hospital</td>\n      <td>Coffee Shop</td>\n      <td>Caf\u00e9</td>\n      <td>Japanese Restaurant</td>\n      <td>Italian Restaurant</td>\n      <td>Ramen Restaurant</td>\n      <td>French Restaurant</td>\n      <td>Art Gallery</td>\n      <td>Bar</td>\n      <td>Sandwich Place</td>\n      <td>Bubble Tea Shop</td>\n    </tr>\n  </tbody>\n</table>\n</div>",
                        "text/plain": "                                      Test_Center 1st Most Common Venue  \\\n0         Humber River Hospital Assessment Centre                 Hotel   \n1        Market Place Temporary Assessment Centre           Golf Course   \n2  Michael Garron Hospital - Emergency Department           Coffee Shop   \n3     Michael Garron Hospital - Outpatient Clinic           Coffee Shop   \n4                            Mount Sinai Hospital           Coffee Shop   \n\n  2nd Most Common Venue 3rd Most Common Venue 4th Most Common Venue  \\\n0   American Restaurant           Coffee Shop          Intersection   \n1         Metro Station     Convenience Store                  Park   \n2                  Caf\u00e9                  Park           Pizza Place   \n3                  Caf\u00e9                  Park           Pizza Place   \n4                  Caf\u00e9   Japanese Restaurant    Italian Restaurant   \n\n  5th Most Common Venue        6th Most Common Venue 7th Most Common Venue  \\\n0                 Diner  Eastern European Restaurant            Donut Shop   \n1              Creperie                  Curling Ice          Dance Studio   \n2        Farmers Market                 Dance Studio        Sandwich Place   \n3        Farmers Market                 Dance Studio        Sandwich Place   \n4      Ramen Restaurant            French Restaurant           Art Gallery   \n\n  8th Most Common Venue 9th Most Common Venue 10th Most Common Venue  \n0      Doner Restaurant   Distribution Center         Discount Store  \n1         Deli / Bodega      Department Store      Electronics Store  \n2                 Diner      Doner Restaurant    Distribution Center  \n3                 Diner      Doner Restaurant    Distribution Center  \n4                   Bar        Sandwich Place        Bubble Tea Shop  "
                    },
                    "execution_count": 26,
                    "metadata": {},
                    "output_type": "execute_result"
                }
            ],
            "source": "num_top_venues = 10\n\nindicators = ['st', 'nd', 'rd']\n\ncolumns = ['Test_Center']\nfor ind in np.arange(num_top_venues):\n    try:\n        columns.append('{}{} Most Common Venue'.format(ind+1, indicators[ind]))\n    except:\n        columns.append('{}th Most Common Venue'.format(ind+1))\n\nneighborhoods_venues_sorted = pd.DataFrame(columns=columns)\nneighborhoods_venues_sorted['Test_Center'] = toronto_grouped['Test_Center']\n\nfor ind in np.arange(toronto_grouped.shape[0]):\n    neighborhoods_venues_sorted.iloc[ind, 1:] = return_most_common_venues(toronto_grouped.iloc[ind, :], num_top_venues)\n\nneighborhoods_venues_sorted.head()"
        },
        {
            "cell_type": "markdown",
            "metadata": {},
            "source": "#### Now let's use K nearest neighbor clustering"
        },
        {
            "cell_type": "code",
            "execution_count": 27,
            "metadata": {},
            "outputs": [
                {
                    "data": {
                        "text/plain": "array([2, 3, 4, 4, 1, 1, 1, 1, 1, 1], dtype=int32)"
                    },
                    "execution_count": 27,
                    "metadata": {},
                    "output_type": "execute_result"
                }
            ],
            "source": "kclusters = 5\n\ntoronto_grouped_clustering = toronto_grouped.drop('Test_Center', 1)\n\nkmeans = KMeans(n_clusters=kclusters, random_state=0).fit(toronto_grouped_clustering)\n\nkmeans.labels_[0:10]"
        },
        {
            "cell_type": "code",
            "execution_count": 28,
            "metadata": {},
            "outputs": [],
            "source": "neighborhoods_venues_sorted.insert(0, 'Cluster Labels', kmeans.labels_)"
        },
        {
            "cell_type": "code",
            "execution_count": 29,
            "metadata": {},
            "outputs": [],
            "source": "toronto_merged = toronto_data\ntoronto_merged=toronto_merged[toronto_merged['location_name']!='Michael Garron Hospital - Emergency Department']"
        },
        {
            "cell_type": "code",
            "execution_count": 31,
            "metadata": {},
            "outputs": [],
            "source": "toronto_merged = toronto_merged.join(neighborhoods_venues_sorted.set_index('Test_Center'), on='location_name')"
        },
        {
            "cell_type": "markdown",
            "metadata": {},
            "source": "#### And here we are, showing each test center and 10 most common venues around each of it"
        },
        {
            "cell_type": "code",
            "execution_count": 32,
            "metadata": {
                "scrolled": true
            },
            "outputs": [
                {
                    "data": {
                        "text/html": "<div>\n<style scoped>\n    .dataframe tbody tr th:only-of-type {\n        vertical-align: middle;\n    }\n\n    .dataframe tbody tr th {\n        vertical-align: top;\n    }\n\n    .dataframe thead th {\n        text-align: right;\n    }\n</style>\n<table border=\"1\" class=\"dataframe\">\n  <thead>\n    <tr style=\"text-align: right;\">\n      <th></th>\n      <th>location_name</th>\n      <th>city</th>\n      <th>address</th>\n      <th>postal_code</th>\n      <th>latitude</th>\n      <th>longitude</th>\n      <th>Cluster Labels</th>\n      <th>1st Most Common Venue</th>\n      <th>2nd Most Common Venue</th>\n      <th>3rd Most Common Venue</th>\n      <th>4th Most Common Venue</th>\n      <th>5th Most Common Venue</th>\n      <th>6th Most Common Venue</th>\n      <th>7th Most Common Venue</th>\n      <th>8th Most Common Venue</th>\n      <th>9th Most Common Venue</th>\n      <th>10th Most Common Venue</th>\n    </tr>\n  </thead>\n  <tbody>\n    <tr>\n      <th>100</th>\n      <td>Humber River Hospital Assessment Centre</td>\n      <td>Toronto</td>\n      <td>2111 Finch Avenue West</td>\n      <td>M3N 1N1</td>\n      <td>43.754813</td>\n      <td>-79.525921</td>\n      <td>2</td>\n      <td>Hotel</td>\n      <td>American Restaurant</td>\n      <td>Coffee Shop</td>\n      <td>Intersection</td>\n      <td>Diner</td>\n      <td>Eastern European Restaurant</td>\n      <td>Donut Shop</td>\n      <td>Doner Restaurant</td>\n      <td>Distribution Center</td>\n      <td>Discount Store</td>\n    </tr>\n    <tr>\n      <th>102</th>\n      <td>Michael Garron Hospital - Outpatient Clinic</td>\n      <td>Toronto</td>\n      <td>825 Coxwell Avenue</td>\n      <td>M4C 3E7</td>\n      <td>43.689910</td>\n      <td>-79.324858</td>\n      <td>4</td>\n      <td>Coffee Shop</td>\n      <td>Caf\u00e9</td>\n      <td>Park</td>\n      <td>Pizza Place</td>\n      <td>Farmers Market</td>\n      <td>Dance Studio</td>\n      <td>Sandwich Place</td>\n      <td>Diner</td>\n      <td>Doner Restaurant</td>\n      <td>Distribution Center</td>\n    </tr>\n    <tr>\n      <th>103</th>\n      <td>Market Place Temporary Assessment Centre</td>\n      <td>Toronto</td>\n      <td>4 The Market Place</td>\n      <td>M4C 5M1</td>\n      <td>43.695869</td>\n      <td>-79.292138</td>\n      <td>3</td>\n      <td>Golf Course</td>\n      <td>Metro Station</td>\n      <td>Convenience Store</td>\n      <td>Park</td>\n      <td>Creperie</td>\n      <td>Curling Ice</td>\n      <td>Dance Studio</td>\n      <td>Deli / Bodega</td>\n      <td>Department Store</td>\n      <td>Electronics Store</td>\n    </tr>\n    <tr>\n      <th>104</th>\n      <td>Mount Sinai Hospital</td>\n      <td>Toronto</td>\n      <td>600 University Avenue</td>\n      <td>M5G 1X5</td>\n      <td>43.657575</td>\n      <td>-79.390096</td>\n      <td>1</td>\n      <td>Coffee Shop</td>\n      <td>Caf\u00e9</td>\n      <td>Japanese Restaurant</td>\n      <td>Italian Restaurant</td>\n      <td>Ramen Restaurant</td>\n      <td>French Restaurant</td>\n      <td>Art Gallery</td>\n      <td>Bar</td>\n      <td>Sandwich Place</td>\n      <td>Bubble Tea Shop</td>\n    </tr>\n    <tr>\n      <th>105</th>\n      <td>North York General Hospital - Branson</td>\n      <td>Toronto</td>\n      <td>555 Finch Avenue West</td>\n      <td>M2R 1N5</td>\n      <td>43.772477</td>\n      <td>-79.448125</td>\n      <td>1</td>\n      <td>Bakery</td>\n      <td>Coffee Shop</td>\n      <td>Skating Rink</td>\n      <td>Juice Bar</td>\n      <td>Pizza Place</td>\n      <td>Shopping Mall</td>\n      <td>Grocery Store</td>\n      <td>Curling Ice</td>\n      <td>Dance Studio</td>\n      <td>Deli / Bodega</td>\n    </tr>\n  </tbody>\n</table>\n</div>",
                        "text/plain": "                                   location_name     city  \\\n100      Humber River Hospital Assessment Centre  Toronto   \n102  Michael Garron Hospital - Outpatient Clinic  Toronto   \n103     Market Place Temporary Assessment Centre  Toronto   \n104                         Mount Sinai Hospital  Toronto   \n105        North York General Hospital - Branson  Toronto   \n\n                    address postal_code   latitude  longitude  Cluster Labels  \\\n100  2111 Finch Avenue West     M3N 1N1  43.754813 -79.525921               2   \n102      825 Coxwell Avenue     M4C 3E7  43.689910 -79.324858               4   \n103      4 The Market Place     M4C 5M1  43.695869 -79.292138               3   \n104   600 University Avenue     M5G 1X5  43.657575 -79.390096               1   \n105   555 Finch Avenue West     M2R 1N5  43.772477 -79.448125               1   \n\n    1st Most Common Venue 2nd Most Common Venue 3rd Most Common Venue  \\\n100                 Hotel   American Restaurant           Coffee Shop   \n102           Coffee Shop                  Caf\u00e9                  Park   \n103           Golf Course         Metro Station     Convenience Store   \n104           Coffee Shop                  Caf\u00e9   Japanese Restaurant   \n105                Bakery           Coffee Shop          Skating Rink   \n\n    4th Most Common Venue 5th Most Common Venue        6th Most Common Venue  \\\n100          Intersection                 Diner  Eastern European Restaurant   \n102           Pizza Place        Farmers Market                 Dance Studio   \n103                  Park              Creperie                  Curling Ice   \n104    Italian Restaurant      Ramen Restaurant            French Restaurant   \n105             Juice Bar           Pizza Place                Shopping Mall   \n\n    7th Most Common Venue 8th Most Common Venue 9th Most Common Venue  \\\n100            Donut Shop      Doner Restaurant   Distribution Center   \n102        Sandwich Place                 Diner      Doner Restaurant   \n103          Dance Studio         Deli / Bodega      Department Store   \n104           Art Gallery                   Bar        Sandwich Place   \n105         Grocery Store           Curling Ice          Dance Studio   \n\n    10th Most Common Venue  \n100         Discount Store  \n102    Distribution Center  \n103      Electronics Store  \n104        Bubble Tea Shop  \n105          Deli / Bodega  "
                    },
                    "execution_count": 32,
                    "metadata": {},
                    "output_type": "execute_result"
                }
            ],
            "source": "toronto_merged.head()"
        },
        {
            "cell_type": "markdown",
            "metadata": {},
            "source": "#### Now it is time for plotting our findings on a map using Folium"
        },
        {
            "cell_type": "code",
            "execution_count": 33,
            "metadata": {},
            "outputs": [
                {
                    "name": "stdout",
                    "output_type": "stream",
                    "text": "The geograpical coordinate of Toronto city are 43.6534817, -79.3839347.\n"
                }
            ],
            "source": "address = \"Toronto, ON\"\n\ngeolocator = Nominatim(user_agent=\"toronto_explorer\")\nlocation = geolocator.geocode(address)\nlatitude = location.latitude\nlongitude = location.longitude\nprint('The geograpical coordinate of Toronto city are {}, {}.'.format(latitude, longitude))"
        },
        {
            "cell_type": "code",
            "execution_count": 34,
            "metadata": {
                "scrolled": true
            },
            "outputs": [
                {
                    "data": {
                        "text/html": "<div style=\"width:100%;\"><div style=\"position:relative;width:100%;height:0;padding-bottom:60%;\"><span style=\"color:#565656\">Make this Notebook Trusted to load map: File -> Trust Notebook</span><iframe src=\"about:blank\" style=\"position:absolute;width:100%;height:100%;left:0;top:0;border:none !important;\" data-html=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 onload=\"this.contentDocument.open();this.contentDocument.write(atob(this.getAttribute('data-html')));this.contentDocument.close();\" allowfullscreen webkitallowfullscreen mozallowfullscreen></iframe></div></div>",
                        "text/plain": "<folium.folium.Map at 0x7f41cc3cb450>"
                    },
                    "execution_count": 34,
                    "metadata": {},
                    "output_type": "execute_result"
                }
            ],
            "source": "map_clusters = folium.Map(location=[latitude, longitude], zoom_start=11)\n\nx = np.arange(kclusters)\nys = [i + x + (i*x)**2 for i in range(kclusters)]\ncolors_array = cm.rainbow(np.linspace(0, 1, len(ys)))\nrainbow = [colors.rgb2hex(i) for i in colors_array]\n\n# add markers to the map\nmarkers_colors = []\nfor lat, lon, poi, cluster in zip(toronto_merged['latitude'], toronto_merged['longitude'], toronto_merged['location_name'], toronto_merged['Cluster Labels']):\n    label = folium.Popup(str(poi) + ' Cluster ' + str(cluster), parse_html=True)\n    folium.CircleMarker(\n        [lat, lon],\n        radius=5,\n        popup=label,\n        color=rainbow[cluster-1],\n        fill=True,\n        fill_color=rainbow[cluster-1],\n        fill_opacity=0.7).add_to(map_clusters)\n       \nmap_clusters"
        },
        {
            "cell_type": "markdown",
            "metadata": {},
            "source": "#### That was a good visual of data on map of Toronto.<br> Below we'll use clustering of all 5 and check the outputs"
        },
        {
            "cell_type": "code",
            "execution_count": 35,
            "metadata": {},
            "outputs": [
                {
                    "data": {
                        "text/html": "<div>\n<style scoped>\n    .dataframe tbody tr th:only-of-type {\n        vertical-align: middle;\n    }\n\n    .dataframe tbody tr th {\n        vertical-align: top;\n    }\n\n    .dataframe thead th {\n        text-align: right;\n    }\n</style>\n<table border=\"1\" class=\"dataframe\">\n  <thead>\n    <tr style=\"text-align: right;\">\n      <th></th>\n      <th>location_name</th>\n      <th>1st Most Common Venue</th>\n      <th>2nd Most Common Venue</th>\n      <th>3rd Most Common Venue</th>\n      <th>4th Most Common Venue</th>\n      <th>5th Most Common Venue</th>\n      <th>6th Most Common Venue</th>\n      <th>7th Most Common Venue</th>\n      <th>8th Most Common Venue</th>\n      <th>9th Most Common Venue</th>\n      <th>10th Most Common Venue</th>\n    </tr>\n  </thead>\n  <tbody>\n    <tr>\n      <th>109</th>\n      <td>Sunnybrook Health Sciences Centre</td>\n      <td>Restaurant</td>\n      <td>Coffee Shop</td>\n      <td>Deli / Bodega</td>\n      <td>Diner</td>\n      <td>Eastern European Restaurant</td>\n      <td>Donut Shop</td>\n      <td>Doner Restaurant</td>\n      <td>Distribution Center</td>\n      <td>Discount Store</td>\n      <td>Yoga Studio</td>\n    </tr>\n  </tbody>\n</table>\n</div>",
                        "text/plain": "                         location_name 1st Most Common Venue  \\\n109  Sunnybrook Health Sciences Centre            Restaurant   \n\n    2nd Most Common Venue 3rd Most Common Venue 4th Most Common Venue  \\\n109           Coffee Shop         Deli / Bodega                 Diner   \n\n           5th Most Common Venue 6th Most Common Venue 7th Most Common Venue  \\\n109  Eastern European Restaurant            Donut Shop      Doner Restaurant   \n\n    8th Most Common Venue 9th Most Common Venue 10th Most Common Venue  \n109   Distribution Center        Discount Store            Yoga Studio  "
                    },
                    "execution_count": 35,
                    "metadata": {},
                    "output_type": "execute_result"
                }
            ],
            "source": "toronto_merged.loc[toronto_merged['Cluster Labels'] == 0, toronto_merged.columns[[0] + list(range(7, toronto_merged.shape[1]))]]"
        },
        {
            "cell_type": "code",
            "execution_count": 36,
            "metadata": {},
            "outputs": [
                {
                    "data": {
                        "text/html": "<div>\n<style scoped>\n    .dataframe tbody tr th:only-of-type {\n        vertical-align: middle;\n    }\n\n    .dataframe tbody tr th {\n        vertical-align: top;\n    }\n\n    .dataframe thead th {\n        text-align: right;\n    }\n</style>\n<table border=\"1\" class=\"dataframe\">\n  <thead>\n    <tr style=\"text-align: right;\">\n      <th></th>\n      <th>location_name</th>\n      <th>1st Most Common Venue</th>\n      <th>2nd Most Common Venue</th>\n      <th>3rd Most Common Venue</th>\n      <th>4th Most Common Venue</th>\n      <th>5th Most Common Venue</th>\n      <th>6th Most Common Venue</th>\n      <th>7th Most Common Venue</th>\n      <th>8th Most Common Venue</th>\n      <th>9th Most Common Venue</th>\n      <th>10th Most Common Venue</th>\n    </tr>\n  </thead>\n  <tbody>\n    <tr>\n      <th>104</th>\n      <td>Mount Sinai Hospital</td>\n      <td>Coffee Shop</td>\n      <td>Caf\u00e9</td>\n      <td>Japanese Restaurant</td>\n      <td>Italian Restaurant</td>\n      <td>Ramen Restaurant</td>\n      <td>French Restaurant</td>\n      <td>Art Gallery</td>\n      <td>Bar</td>\n      <td>Sandwich Place</td>\n      <td>Bubble Tea Shop</td>\n    </tr>\n    <tr>\n      <th>105</th>\n      <td>North York General Hospital - Branson</td>\n      <td>Bakery</td>\n      <td>Coffee Shop</td>\n      <td>Skating Rink</td>\n      <td>Juice Bar</td>\n      <td>Pizza Place</td>\n      <td>Shopping Mall</td>\n      <td>Grocery Store</td>\n      <td>Curling Ice</td>\n      <td>Dance Studio</td>\n      <td>Deli / Bodega</td>\n    </tr>\n    <tr>\n      <th>106</th>\n      <td>North York General Hospital - Emergency Depart...</td>\n      <td>Furniture / Home Store</td>\n      <td>Coffee Shop</td>\n      <td>Trail</td>\n      <td>Intersection</td>\n      <td>Tennis Court</td>\n      <td>Train Station</td>\n      <td>Moving Target</td>\n      <td>Food &amp; Drink Shop</td>\n      <td>Department Store</td>\n      <td>Doner Restaurant</td>\n    </tr>\n    <tr>\n      <th>107</th>\n      <td>Scarborough Health Network - Birchmount</td>\n      <td>Chinese Restaurant</td>\n      <td>Park</td>\n      <td>Coffee Shop</td>\n      <td>Bus Stop</td>\n      <td>Caribbean Restaurant</td>\n      <td>Athletics &amp; Sports</td>\n      <td>Shopping Mall</td>\n      <td>Department Store</td>\n      <td>Deli / Bodega</td>\n      <td>Eastern European Restaurant</td>\n    </tr>\n    <tr>\n      <th>108</th>\n      <td>Scarborough Health Network Centenary Site</td>\n      <td>Coffee Shop</td>\n      <td>Pharmacy</td>\n      <td>Discount Store</td>\n      <td>Beer Store</td>\n      <td>Fast Food Restaurant</td>\n      <td>Supermarket</td>\n      <td>Sandwich Place</td>\n      <td>Caf\u00e9</td>\n      <td>Doner Restaurant</td>\n      <td>Distribution Center</td>\n    </tr>\n    <tr>\n      <th>110</th>\n      <td>Toronto Western Hospital</td>\n      <td>Caf\u00e9</td>\n      <td>Bar</td>\n      <td>Vegetarian / Vegan Restaurant</td>\n      <td>Mexican Restaurant</td>\n      <td>Bakery</td>\n      <td>Caribbean Restaurant</td>\n      <td>Taco Place</td>\n      <td>Park</td>\n      <td>Art Gallery</td>\n      <td>Cocktail Bar</td>\n    </tr>\n    <tr>\n      <th>111</th>\n      <td>St. Joseph's Health Centre</td>\n      <td>Coffee Shop</td>\n      <td>Breakfast Spot</td>\n      <td>Pharmacy</td>\n      <td>Caf\u00e9</td>\n      <td>Bakery</td>\n      <td>Eastern European Restaurant</td>\n      <td>Shoe Store</td>\n      <td>Burrito Place</td>\n      <td>Bus Stop</td>\n      <td>Restaurant</td>\n    </tr>\n    <tr>\n      <th>112</th>\n      <td>St Michael's Hospital</td>\n      <td>Clothing Store</td>\n      <td>Caf\u00e9</td>\n      <td>Coffee Shop</td>\n      <td>Gym</td>\n      <td>Hotel</td>\n      <td>Restaurant</td>\n      <td>New American Restaurant</td>\n      <td>Lingerie Store</td>\n      <td>Japanese Restaurant</td>\n      <td>Italian Restaurant</td>\n    </tr>\n  </tbody>\n</table>\n</div>",
                        "text/plain": "                                         location_name  \\\n104                               Mount Sinai Hospital   \n105              North York General Hospital - Branson   \n106  North York General Hospital - Emergency Depart...   \n107            Scarborough Health Network - Birchmount   \n108          Scarborough Health Network Centenary Site   \n110                          Toronto Western Hospital    \n111                        St. Joseph's Health Centre    \n112                             St Michael's Hospital    \n\n      1st Most Common Venue 2nd Most Common Venue  \\\n104             Coffee Shop                  Caf\u00e9   \n105                  Bakery           Coffee Shop   \n106  Furniture / Home Store           Coffee Shop   \n107      Chinese Restaurant                  Park   \n108             Coffee Shop              Pharmacy   \n110                    Caf\u00e9                   Bar   \n111             Coffee Shop        Breakfast Spot   \n112          Clothing Store                  Caf\u00e9   \n\n             3rd Most Common Venue 4th Most Common Venue  \\\n104            Japanese Restaurant    Italian Restaurant   \n105                   Skating Rink             Juice Bar   \n106                          Trail          Intersection   \n107                    Coffee Shop              Bus Stop   \n108                 Discount Store            Beer Store   \n110  Vegetarian / Vegan Restaurant    Mexican Restaurant   \n111                       Pharmacy                  Caf\u00e9   \n112                    Coffee Shop                   Gym   \n\n    5th Most Common Venue        6th Most Common Venue  \\\n104      Ramen Restaurant            French Restaurant   \n105           Pizza Place                Shopping Mall   \n106          Tennis Court                Train Station   \n107  Caribbean Restaurant           Athletics & Sports   \n108  Fast Food Restaurant                  Supermarket   \n110                Bakery         Caribbean Restaurant   \n111                Bakery  Eastern European Restaurant   \n112                 Hotel                   Restaurant   \n\n       7th Most Common Venue 8th Most Common Venue 9th Most Common Venue  \\\n104              Art Gallery                   Bar        Sandwich Place   \n105            Grocery Store           Curling Ice          Dance Studio   \n106            Moving Target     Food & Drink Shop      Department Store   \n107            Shopping Mall      Department Store         Deli / Bodega   \n108           Sandwich Place                  Caf\u00e9      Doner Restaurant   \n110               Taco Place                  Park           Art Gallery   \n111               Shoe Store         Burrito Place              Bus Stop   \n112  New American Restaurant        Lingerie Store   Japanese Restaurant   \n\n          10th Most Common Venue  \n104              Bubble Tea Shop  \n105                Deli / Bodega  \n106             Doner Restaurant  \n107  Eastern European Restaurant  \n108          Distribution Center  \n110                 Cocktail Bar  \n111                   Restaurant  \n112           Italian Restaurant  "
                    },
                    "execution_count": 36,
                    "metadata": {},
                    "output_type": "execute_result"
                }
            ],
            "source": "toronto_merged.loc[toronto_merged['Cluster Labels'] == 1, toronto_merged.columns[[0] + list(range(7, toronto_merged.shape[1]))]]"
        },
        {
            "cell_type": "code",
            "execution_count": 37,
            "metadata": {},
            "outputs": [
                {
                    "data": {
                        "text/html": "<div>\n<style scoped>\n    .dataframe tbody tr th:only-of-type {\n        vertical-align: middle;\n    }\n\n    .dataframe tbody tr th {\n        vertical-align: top;\n    }\n\n    .dataframe thead th {\n        text-align: right;\n    }\n</style>\n<table border=\"1\" class=\"dataframe\">\n  <thead>\n    <tr style=\"text-align: right;\">\n      <th></th>\n      <th>location_name</th>\n      <th>1st Most Common Venue</th>\n      <th>2nd Most Common Venue</th>\n      <th>3rd Most Common Venue</th>\n      <th>4th Most Common Venue</th>\n      <th>5th Most Common Venue</th>\n      <th>6th Most Common Venue</th>\n      <th>7th Most Common Venue</th>\n      <th>8th Most Common Venue</th>\n      <th>9th Most Common Venue</th>\n      <th>10th Most Common Venue</th>\n    </tr>\n  </thead>\n  <tbody>\n    <tr>\n      <th>100</th>\n      <td>Humber River Hospital Assessment Centre</td>\n      <td>Hotel</td>\n      <td>American Restaurant</td>\n      <td>Coffee Shop</td>\n      <td>Intersection</td>\n      <td>Diner</td>\n      <td>Eastern European Restaurant</td>\n      <td>Donut Shop</td>\n      <td>Doner Restaurant</td>\n      <td>Distribution Center</td>\n      <td>Discount Store</td>\n    </tr>\n  </tbody>\n</table>\n</div>",
                        "text/plain": "                               location_name 1st Most Common Venue  \\\n100  Humber River Hospital Assessment Centre                 Hotel   \n\n    2nd Most Common Venue 3rd Most Common Venue 4th Most Common Venue  \\\n100   American Restaurant           Coffee Shop          Intersection   \n\n    5th Most Common Venue        6th Most Common Venue 7th Most Common Venue  \\\n100                 Diner  Eastern European Restaurant            Donut Shop   \n\n    8th Most Common Venue 9th Most Common Venue 10th Most Common Venue  \n100      Doner Restaurant   Distribution Center         Discount Store  "
                    },
                    "execution_count": 37,
                    "metadata": {},
                    "output_type": "execute_result"
                }
            ],
            "source": "toronto_merged.loc[toronto_merged['Cluster Labels'] == 2, toronto_merged.columns[[0] + list(range(7, toronto_merged.shape[1]))]]"
        },
        {
            "cell_type": "code",
            "execution_count": 38,
            "metadata": {},
            "outputs": [
                {
                    "data": {
                        "text/html": "<div>\n<style scoped>\n    .dataframe tbody tr th:only-of-type {\n        vertical-align: middle;\n    }\n\n    .dataframe tbody tr th {\n        vertical-align: top;\n    }\n\n    .dataframe thead th {\n        text-align: right;\n    }\n</style>\n<table border=\"1\" class=\"dataframe\">\n  <thead>\n    <tr style=\"text-align: right;\">\n      <th></th>\n      <th>location_name</th>\n      <th>1st Most Common Venue</th>\n      <th>2nd Most Common Venue</th>\n      <th>3rd Most Common Venue</th>\n      <th>4th Most Common Venue</th>\n      <th>5th Most Common Venue</th>\n      <th>6th Most Common Venue</th>\n      <th>7th Most Common Venue</th>\n      <th>8th Most Common Venue</th>\n      <th>9th Most Common Venue</th>\n      <th>10th Most Common Venue</th>\n    </tr>\n  </thead>\n  <tbody>\n    <tr>\n      <th>103</th>\n      <td>Market Place Temporary Assessment Centre</td>\n      <td>Golf Course</td>\n      <td>Metro Station</td>\n      <td>Convenience Store</td>\n      <td>Park</td>\n      <td>Creperie</td>\n      <td>Curling Ice</td>\n      <td>Dance Studio</td>\n      <td>Deli / Bodega</td>\n      <td>Department Store</td>\n      <td>Electronics Store</td>\n    </tr>\n  </tbody>\n</table>\n</div>",
                        "text/plain": "                                location_name 1st Most Common Venue  \\\n103  Market Place Temporary Assessment Centre           Golf Course   \n\n    2nd Most Common Venue 3rd Most Common Venue 4th Most Common Venue  \\\n103         Metro Station     Convenience Store                  Park   \n\n    5th Most Common Venue 6th Most Common Venue 7th Most Common Venue  \\\n103              Creperie           Curling Ice          Dance Studio   \n\n    8th Most Common Venue 9th Most Common Venue 10th Most Common Venue  \n103         Deli / Bodega      Department Store      Electronics Store  "
                    },
                    "execution_count": 38,
                    "metadata": {},
                    "output_type": "execute_result"
                }
            ],
            "source": "toronto_merged.loc[toronto_merged['Cluster Labels'] == 3, toronto_merged.columns[[0] + list(range(7, toronto_merged.shape[1]))]]"
        },
        {
            "cell_type": "code",
            "execution_count": 39,
            "metadata": {},
            "outputs": [
                {
                    "data": {
                        "text/html": "<div>\n<style scoped>\n    .dataframe tbody tr th:only-of-type {\n        vertical-align: middle;\n    }\n\n    .dataframe tbody tr th {\n        vertical-align: top;\n    }\n\n    .dataframe thead th {\n        text-align: right;\n    }\n</style>\n<table border=\"1\" class=\"dataframe\">\n  <thead>\n    <tr style=\"text-align: right;\">\n      <th></th>\n      <th>location_name</th>\n      <th>1st Most Common Venue</th>\n      <th>2nd Most Common Venue</th>\n      <th>3rd Most Common Venue</th>\n      <th>4th Most Common Venue</th>\n      <th>5th Most Common Venue</th>\n      <th>6th Most Common Venue</th>\n      <th>7th Most Common Venue</th>\n      <th>8th Most Common Venue</th>\n      <th>9th Most Common Venue</th>\n      <th>10th Most Common Venue</th>\n    </tr>\n  </thead>\n  <tbody>\n    <tr>\n      <th>102</th>\n      <td>Michael Garron Hospital - Outpatient Clinic</td>\n      <td>Coffee Shop</td>\n      <td>Caf\u00e9</td>\n      <td>Park</td>\n      <td>Pizza Place</td>\n      <td>Farmers Market</td>\n      <td>Dance Studio</td>\n      <td>Sandwich Place</td>\n      <td>Diner</td>\n      <td>Doner Restaurant</td>\n      <td>Distribution Center</td>\n    </tr>\n    <tr>\n      <th>113</th>\n      <td>Women's College Hospital</td>\n      <td>Coffee Shop</td>\n      <td>Park</td>\n      <td>Italian Restaurant</td>\n      <td>Caf\u00e9</td>\n      <td>Sandwich Place</td>\n      <td>Hobby Shop</td>\n      <td>Distribution Center</td>\n      <td>Diner</td>\n      <td>Department Store</td>\n      <td>Bookstore</td>\n    </tr>\n  </tbody>\n</table>\n</div>",
                        "text/plain": "                                   location_name 1st Most Common Venue  \\\n102  Michael Garron Hospital - Outpatient Clinic           Coffee Shop   \n113                     Women's College Hospital           Coffee Shop   \n\n    2nd Most Common Venue 3rd Most Common Venue 4th Most Common Venue  \\\n102                  Caf\u00e9                  Park           Pizza Place   \n113                  Park    Italian Restaurant                  Caf\u00e9   \n\n    5th Most Common Venue 6th Most Common Venue 7th Most Common Venue  \\\n102        Farmers Market          Dance Studio        Sandwich Place   \n113        Sandwich Place            Hobby Shop   Distribution Center   \n\n    8th Most Common Venue 9th Most Common Venue 10th Most Common Venue  \n102                 Diner      Doner Restaurant    Distribution Center  \n113                 Diner      Department Store              Bookstore  "
                    },
                    "execution_count": 39,
                    "metadata": {},
                    "output_type": "execute_result"
                }
            ],
            "source": "toronto_merged.loc[toronto_merged['Cluster Labels'] == 4, toronto_merged.columns[[0] + list(range(7, toronto_merged.shape[1]))]]"
        },
        {
            "cell_type": "markdown",
            "metadata": {},
            "source": "## Results and Discussion\n\nHere we are with all the results for analysis.<br>\n    First using the datasets we narrowed down to COVID test centers available in city of Toronto.<br> This we achieved by narrowing down from all the locations listed in the province of Ontario's dataset.<br>\nAs observed we have 5 locations across the city in different neighborhoods.<br> In order to understand proximity of each of those we plotted them on map and this gave us an insight of a visual representation of their presence.<br>\n    Next using Foursquare we identified most common business amenities available around each of the test center location.<br> For this we used the latitude and longitude of the respective test centers and used the Four Square's features to fetch each of the venues around it.<br>\n    Finally using K-nearest-neighbors data science algorithm we segmented and clustered each of the above mentioned locations.\n\n\n"
        },
        {
            "attachments": {},
            "cell_type": "markdown",
            "metadata": {},
            "source": "## Conclusion \nPurpose of this project was to identify COVID test center locations across Toronto. And the results of this will help the stake holders as mentioned below;<br>\na) Government officials while planning more test centers in other neighborhoods than the present ones.<br>\nb) Patients to quickly identify what kind of services/amenities exist around each test center e.g Parking centers.<br>\nc) Businesses to take extra precautions for possible exposure due to increased influx of people in the neighborhood.<br>\n\nConsidering the results we achieved by plotting test centers on Toronto map and by finding the most common venues around each test center we can conclude that we have addressed the business problem we started with"
        },
        {
            "cell_type": "code",
            "execution_count": null,
            "metadata": {},
            "outputs": [],
            "source": ""
        }
    ],
    "metadata": {
        "kernelspec": {
            "display_name": "Python 3.7",
            "language": "python",
            "name": "python3"
        },
        "language_info": {
            "codemirror_mode": {
                "name": "ipython",
                "version": 3
            },
            "file_extension": ".py",
            "mimetype": "text/x-python",
            "name": "python",
            "nbconvert_exporter": "python",
            "pygments_lexer": "ipython3",
            "version": "3.7.9"
        }
    },
    "nbformat": 4,
    "nbformat_minor": 1
}